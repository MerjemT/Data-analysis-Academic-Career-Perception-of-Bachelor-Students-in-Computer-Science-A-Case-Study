{
 "cells": [
  {
   "cell_type": "markdown",
   "id": "7847cb63",
   "metadata": {},
   "source": [
    "# Sikiric Merjem - Graduation Project - Question 13 "
   ]
  },
  {
   "cell_type": "code",
   "execution_count": 17,
   "id": "b99a13e9",
   "metadata": {
    "scrolled": true
   },
   "outputs": [
    {
     "data": {
      "text/html": [
       "<div>\n",
       "<style scoped>\n",
       "    .dataframe tbody tr th:only-of-type {\n",
       "        vertical-align: middle;\n",
       "    }\n",
       "\n",
       "    .dataframe tbody tr th {\n",
       "        vertical-align: top;\n",
       "    }\n",
       "\n",
       "    .dataframe thead th {\n",
       "        text-align: right;\n",
       "    }\n",
       "</style>\n",
       "<table border=\"1\" class=\"dataframe\">\n",
       "  <thead>\n",
       "    <tr style=\"text-align: right;\">\n",
       "      <th></th>\n",
       "      <th>ID</th>\n",
       "      <th>Please select your age:</th>\n",
       "      <th>Please select your gender:</th>\n",
       "      <th>What is your nationality?</th>\n",
       "      <th>What is your current academic year or level?</th>\n",
       "      <th>What influenced your choice of field of study in Computer Science?</th>\n",
       "      <th>What are you planning to do after graduation?</th>\n",
       "      <th>Please describe “academic career” in your own words. What do you know about academic career? What comes to your mind?</th>\n",
       "      <th>What do you think are the motivational factors to pursue for an academic career in Computer Science?</th>\n",
       "      <th>What do you think are the demotivational factors to pursue academic career in Computer Science?</th>\n",
       "      <th>Do you think there is a gender gap in the IT sector in BiH?</th>\n",
       "      <th>What are your thoughts on the representation of women in your field:</th>\n",
       "      <th>Are you personally concerned about the presence of gender bias in your potential future work environment?</th>\n",
       "      <th>Which of the following statements best reflects your perception of gender inclusivity in academic environments compared to the industry?</th>\n",
       "    </tr>\n",
       "  </thead>\n",
       "  <tbody>\n",
       "    <tr>\n",
       "      <th>0</th>\n",
       "      <td>1</td>\n",
       "      <td>24</td>\n",
       "      <td>Female</td>\n",
       "      <td>Bosnian</td>\n",
       "      <td>Senior (fourth year student)</td>\n",
       "      <td>Personal interest;Job opportunities;</td>\n",
       "      <td>Find a job in the industry;Start my own business;</td>\n",
       "      <td>An academic career is like a journey where peo...</td>\n",
       "      <td>Interest and confidence in research (academic ...</td>\n",
       "      <td>Lack of confidence;Lack of information and gui...</td>\n",
       "      <td>Yes</td>\n",
       "      <td>Women are underrepresented</td>\n",
       "      <td>Yes</td>\n",
       "      <td>I perceive both academic environments and the ...</td>\n",
       "    </tr>\n",
       "    <tr>\n",
       "      <th>1</th>\n",
       "      <td>2</td>\n",
       "      <td>19</td>\n",
       "      <td>Female</td>\n",
       "      <td>Bosnian</td>\n",
       "      <td>Freshman (first year student)</td>\n",
       "      <td>Personal interest;</td>\n",
       "      <td>Continue my graduate studies (master’s);</td>\n",
       "      <td>studying for life</td>\n",
       "      <td>Interest and confidence in research (academic ...</td>\n",
       "      <td>Stressful work environment;Lack of confidence;</td>\n",
       "      <td>Not sure</td>\n",
       "      <td>Not sure</td>\n",
       "      <td>Yes</td>\n",
       "      <td>In my opinion, academic environments are more ...</td>\n",
       "    </tr>\n",
       "    <tr>\n",
       "      <th>2</th>\n",
       "      <td>3</td>\n",
       "      <td>19</td>\n",
       "      <td>Male</td>\n",
       "      <td>Bosnian</td>\n",
       "      <td>Freshman (first year student)</td>\n",
       "      <td>Job opportunities;</td>\n",
       "      <td>Find a job in the industry;</td>\n",
       "      <td>.</td>\n",
       "      <td>Flexible work environment;</td>\n",
       "      <td>.;</td>\n",
       "      <td>Not sure</td>\n",
       "      <td>Not sure</td>\n",
       "      <td>Not sure</td>\n",
       "      <td>I am not sure or have no specific perception ...</td>\n",
       "    </tr>\n",
       "    <tr>\n",
       "      <th>3</th>\n",
       "      <td>4</td>\n",
       "      <td>18</td>\n",
       "      <td>Male</td>\n",
       "      <td>Turkish</td>\n",
       "      <td>Freshman (first year student)</td>\n",
       "      <td>Personal interest;</td>\n",
       "      <td>Start my own business;I don't know yet;</td>\n",
       "      <td>Learning is way more important than a diploma</td>\n",
       "      <td>Job opportunities in universities;Flexible wor...</td>\n",
       "      <td>Financial concerns;</td>\n",
       "      <td>Yes</td>\n",
       "      <td>Women are underrepresented</td>\n",
       "      <td>No</td>\n",
       "      <td>I am not sure or have no specific perception ...</td>\n",
       "    </tr>\n",
       "    <tr>\n",
       "      <th>4</th>\n",
       "      <td>5</td>\n",
       "      <td>20</td>\n",
       "      <td>Male</td>\n",
       "      <td>Bosnian</td>\n",
       "      <td>Freshman (first year student)</td>\n",
       "      <td>Personal interest;</td>\n",
       "      <td>I don't know yet;</td>\n",
       "      <td>Good</td>\n",
       "      <td>Flexible work environment;</td>\n",
       "      <td>Financial concerns;</td>\n",
       "      <td>Yes</td>\n",
       "      <td>Not sure</td>\n",
       "      <td>Not sure</td>\n",
       "      <td>I perceive both academic environments and the ...</td>\n",
       "    </tr>\n",
       "  </tbody>\n",
       "</table>\n",
       "</div>"
      ],
      "text/plain": [
       "   ID Please select your age: Please select your gender:  \\\n",
       "0   1                      24                     Female   \n",
       "1   2                      19                     Female   \n",
       "2   3                      19                       Male   \n",
       "3   4                      18                       Male   \n",
       "4   5                      20                       Male   \n",
       "\n",
       "  What is your nationality? What is your current academic year or level?  \\\n",
       "0                   Bosnian                 Senior (fourth year student)   \n",
       "1                   Bosnian                Freshman (first year student)   \n",
       "2                   Bosnian                Freshman (first year student)   \n",
       "3                   Turkish                Freshman (first year student)   \n",
       "4                   Bosnian                Freshman (first year student)   \n",
       "\n",
       "  What influenced your choice of field of study in Computer Science?   \\\n",
       "0               Personal interest;Job opportunities;                    \n",
       "1                                 Personal interest;                    \n",
       "2                                 Job opportunities;                    \n",
       "3                                 Personal interest;                    \n",
       "4                                 Personal interest;                    \n",
       "\n",
       "       What are you planning to do after graduation?  \\\n",
       "0  Find a job in the industry;Start my own business;   \n",
       "1           Continue my graduate studies (master’s);   \n",
       "2                        Find a job in the industry;   \n",
       "3            Start my own business;I don't know yet;   \n",
       "4                                  I don't know yet;   \n",
       "\n",
       "  Please describe “academic career” in your own words. What do you know about academic career? What comes to your mind?  \\\n",
       "0  An academic career is like a journey where peo...                                                                      \n",
       "1                                  studying for life                                                                      \n",
       "2                                                  .                                                                      \n",
       "3     Learning is way more important than a diploma                                                                       \n",
       "4                                               Good                                                                      \n",
       "\n",
       "  What do you think are the motivational factors to pursue for an academic career in Computer Science?   \\\n",
       "0  Interest and confidence in research (academic ...                                                      \n",
       "1  Interest and confidence in research (academic ...                                                      \n",
       "2                         Flexible work environment;                                                      \n",
       "3  Job opportunities in universities;Flexible wor...                                                      \n",
       "4                         Flexible work environment;                                                      \n",
       "\n",
       "  What do you think are the demotivational factors to pursue academic career in Computer Science?   \\\n",
       "0  Lack of confidence;Lack of information and gui...                                                 \n",
       "1     Stressful work environment;Lack of confidence;                                                 \n",
       "2                                                 .;                                                 \n",
       "3                                Financial concerns;                                                 \n",
       "4                                Financial concerns;                                                 \n",
       "\n",
       "  Do you think there is a gender gap in the IT sector in BiH?   \\\n",
       "0                                                Yes             \n",
       "1                                           Not sure             \n",
       "2                                           Not sure             \n",
       "3                                                Yes             \n",
       "4                                                Yes             \n",
       "\n",
       "  What are your thoughts on the representation of women in your field:  \\\n",
       "0                         Women are underrepresented                     \n",
       "1                                           Not sure                     \n",
       "2                                           Not sure                     \n",
       "3                         Women are underrepresented                     \n",
       "4                                           Not sure                     \n",
       "\n",
       "  Are you personally concerned about the presence of gender bias in your potential future work environment?  \\\n",
       "0                                                Yes                                                          \n",
       "1                                                Yes                                                          \n",
       "2                                           Not sure                                                          \n",
       "3                                                 No                                                          \n",
       "4                                           Not sure                                                          \n",
       "\n",
       "  Which of the following statements best reflects your perception of gender inclusivity in academic environments compared to the industry?  \n",
       "0  I perceive both academic environments and the ...                                                                                        \n",
       "1  In my opinion, academic environments are more ...                                                                                        \n",
       "2   I am not sure or have no specific perception ...                                                                                        \n",
       "3   I am not sure or have no specific perception ...                                                                                        \n",
       "4  I perceive both academic environments and the ...                                                                                        "
      ]
     },
     "execution_count": 17,
     "metadata": {},
     "output_type": "execute_result"
    }
   ],
   "source": [
    "import scipy.stats as stats\n",
    "import pandas as pd\n",
    "import numpy as np\n",
    "\n",
    "dataset = pd.read_csv(\"Survey__results.csv\")\n",
    "dataset.head() "
   ]
  },
  {
   "cell_type": "markdown",
   "id": "4a2be3f0",
   "metadata": {},
   "source": [
    "13 - Which of the following statements best reflects your perception of gender inclusivity in academic environments compared to the industry?\n",
    "\n",
    "Here we check the relationship between male and female responses on their perception of gender inclusivity in academic environments compared to the industry.\n",
    "We observe the 'Please select your gender:' and 'Which of the following statements best reflects your perception of gender inclusivity in academic environments compared to the industry?' fields.\n",
    "\n",
    "Null and Alternative Hypothesis: \n",
    "\n",
    "Ho:For the population of IT students in BiH, gender and the perception of gender inclusivity in academic environments compared to the industry are not related. \n",
    "\n",
    "H1:For the population of IT students in BiH, gender and the perception of gender inclusivity in academic environments compared to the industry are related.\n",
    "\n"
   ]
  },
  {
   "cell_type": "code",
   "execution_count": 25,
   "id": "a438f13d",
   "metadata": {},
   "outputs": [
    {
     "name": "stdout",
     "output_type": "stream",
     "text": [
      "Which of the following statements best reflects your perception of gender inclusivity in academic environments compared to the industry?   I am not sure or have no specific perception regarding the gender inclusivity.  \\\n",
      "Please select your gender:                                                                                                                                                                                                  \n",
      "Female                                                                                                                                                                                   11                                 \n",
      "Male                                                                                                                                                                                     17                                 \n",
      "\n",
      "Which of the following statements best reflects your perception of gender inclusivity in academic environments compared to the industry?   I believe both academic environments and the industry are equally gender-friendly.  \\\n",
      "Please select your gender:                                                                                                                                                                                                      \n",
      "Female                                                                                                                                                                                    5                                     \n",
      "Male                                                                                                                                                                                     22                                     \n",
      "\n",
      "Which of the following statements best reflects your perception of gender inclusivity in academic environments compared to the industry?   I feel the industry is more gender-friendly compared to academic environments.  \\\n",
      "Please select your gender:                                                                                                                                                                                                  \n",
      "Female                                                                                                                                                                                    2                                 \n",
      "Male                                                                                                                                                                                      2                                 \n",
      "\n",
      "Which of the following statements best reflects your perception of gender inclusivity in academic environments compared to the industry?  I perceive both academic environments and the industry as not particularly gender-friendly.  \\\n",
      "Please select your gender:                                                                                                                                                                                                              \n",
      "Female                                                                                                                                                                                    8                                             \n",
      "Male                                                                                                                                                                                      4                                             \n",
      "\n",
      "Which of the following statements best reflects your perception of gender inclusivity in academic environments compared to the industry?  In my opinion, academic environments are more gender-friendly than the industry.  \n",
      "Please select your gender:                                                                                                                                                                                                  \n",
      "Female                                                                                                                                                                                   22                                 \n",
      "Male                                                                                                                                                                                     18                                 \n"
     ]
    }
   ],
   "source": [
    "#number of responses by each gender is summarized in the table\n",
    "dataset_table=pd.crosstab(dataset['Please select your gender:'],dataset['Which of the following statements best reflects your perception of gender inclusivity in academic environments compared to the industry?'])\n",
    "print(dataset_table)"
   ]
  },
  {
   "cell_type": "code",
   "execution_count": 26,
   "id": "11fc5cb5",
   "metadata": {},
   "outputs": [
    {
     "data": {
      "text/plain": [
       "Chi2ContingencyResult(statistic=11.91327869110607, pvalue=0.01800793399917471, dof=4, expected_freq=array([[12.10810811, 11.67567568,  1.72972973,  5.18918919, 17.2972973 ],\n",
       "       [15.89189189, 15.32432432,  2.27027027,  6.81081081, 22.7027027 ]]))"
      ]
     },
     "execution_count": 26,
     "metadata": {},
     "output_type": "execute_result"
    }
   ],
   "source": [
    "val=stats.chi2_contingency(dataset_table)\n",
    "val\n"
   ]
  },
  {
   "cell_type": "code",
   "execution_count": 27,
   "id": "7c6743e0",
   "metadata": {},
   "outputs": [],
   "source": [
    "#Calculate degrees of freedom\n",
    "nb_rows=len(df.iloc[0:2,0])\n",
    "nb_cols=len(df.iloc[0,0:3])\n",
    "dof=(nb_rows-1)*(nb_cols-1)\n",
    "alpha=0.05\n",
    "\n",
    "#Observed values = oVal\n",
    "#Expected values = eVal\n",
    "oVal=dataset_table.values\n",
    "eVal=val[3]"
   ]
  },
  {
   "attachments": {},
   "cell_type": "markdown",
   "id": "95c9a8f2",
   "metadata": {},
   "source": [
    "Chi Square formula: \\begin{equation}\n",
    "x^2 = ∑ (O − E)^2 / E  \n",
    "\\end{equation}"
   ]
  },
  {
   "cell_type": "code",
   "execution_count": 29,
   "id": "6b4a14f3",
   "metadata": {},
   "outputs": [
    {
     "name": "stdout",
     "output_type": "stream",
     "text": [
      "chi value:  6.9780604371378185\n"
     ]
    }
   ],
   "source": [
    "from scipy.stats import chi2\n",
    "chi_square=sum([(o-e)**2./e for o,e in zip(oVal, eVal)])\n",
    "chi_statistics=chi_square[0]+chi_square[1]+chi_square[2]\n",
    "print('chi value: ', chi_statistics)"
   ]
  },
  {
   "cell_type": "code",
   "execution_count": 34,
   "id": "35351b92",
   "metadata": {},
   "outputs": [
    {
     "name": "stdout",
     "output_type": "stream",
     "text": [
      "critical value:  5.991464547107979\n"
     ]
    }
   ],
   "source": [
    "critical_val=chi2.ppf(q=1-alpha,df=dof)\n",
    "print('critical value: ', critical_val)"
   ]
  },
  {
   "cell_type": "markdown",
   "id": "03cbc38f",
   "metadata": {},
   "source": [
    "If Chi-Square value (chi_statistics) is greater than 5.99, reject Ho. (meaning that gender and the perception of gender inclusivity in academic environments compared to the industry are not related.)"
   ]
  },
  {
   "cell_type": "code",
   "execution_count": 36,
   "id": "430efe53",
   "metadata": {},
   "outputs": [
    {
     "name": "stdout",
     "output_type": "stream",
     "text": [
      "Reject Ho: There is a relationship between gender and perception of gender inclusivity in academia and industry.\n"
     ]
    }
   ],
   "source": [
    "if chi_statistics>=critical_val:\n",
    "    print(\"Reject Ho: There is a relationship between gender and perception of gender inclusivity in academia and industry.\")\n",
    "else:\n",
    "    print(\"Accept Ho: There is no relationship between the 2 variables.\")\n"
   ]
  },
  {
   "cell_type": "code",
   "execution_count": 39,
   "id": "7ae19338",
   "metadata": {},
   "outputs": [
    {
     "name": "stdout",
     "output_type": "stream",
     "text": [
      "p value=  0.03053046569798823\n",
      "Reject Ho: There is a relationship between gender and perception of gender inclusivity in academia and industry.\n"
     ]
    }
   ],
   "source": [
    "#calculate p-value -alternatively\n",
    "pVal=1-chi2.cdf(x=chi_statistics,df=dof)\n",
    "print('p value= ', pVal)\n",
    "if pVal<=alpha:\n",
    "    print(\"Reject Ho: There is a relationship between gender and perception of gender inclusivity in academia and industry.\")\n",
    "else:\n",
    "    print(\"Accept Ho: There is no relationship between the 2 variables.\")"
   ]
  },
  {
   "cell_type": "markdown",
   "id": "0e7051e6",
   "metadata": {},
   "source": [
    "# Effect Size"
   ]
  },
  {
   "cell_type": "code",
   "execution_count": 43,
   "id": "25d7eb20",
   "metadata": {},
   "outputs": [
    {
     "name": "stdout",
     "output_type": "stream",
     "text": [
      "V = 0.32760774571888507\n",
      "Cramer's V Degrees of Freedom = 1\n",
      "\n",
      "Effect Size Thresholds\n",
      "   Degrees of Freedom  Small Effect  Medium Effect  Large Effect\n",
      "0                 1.0          0.10           0.30          0.50\n",
      "1                 2.0          0.07           0.21          0.35\n",
      "2                 3.0          0.06           0.17          0.29\n",
      "3                 4.0          0.05           0.15          0.25\n",
      "4                 5.0          0.04           0.13          0.22\n",
      "\n"
     ]
    }
   ],
   "source": [
    "    data = np.array([[1, .1, .3, .5],\n",
    "       [2, .07, .21, .35],\n",
    "       [3, .06, .17, .29],\n",
    "       [4, .05,.15,.25],\n",
    "       [5, .04, .13, .22]])\n",
    "    sizes = pd.DataFrame(data, columns=['Degrees of Freedom', 'Small Effect', 'Medium Effect', 'Large Effect']) \n",
    "    \n",
    "   # getting the chi sq. stat\n",
    "    chi = val[0]\n",
    "    # calculating the total number of observations\n",
    "    n = dataset_table.sum().sum()\n",
    "    # getting the degrees of freedom\n",
    "    dof = min(dataset_table.shape)-1\n",
    "    # calculating cramer's v\n",
    "    v = np.sqrt(chi/(n*dof))\n",
    "    # printing results\n",
    "    print(f'V = {v}')\n",
    "    print(f'Cramer\\'s V Degrees of Freedom = {dof}')\n",
    "    print(f'\\nEffect Size Thresholds\\n{sizes}\\n') "
   ]
  },
  {
   "cell_type": "markdown",
   "id": "0845093f",
   "metadata": {},
   "source": [
    "The Cramer’s V result indicates that gender has a medium effect on the perception of gender inclusivity in academic environments compared to the industry."
   ]
  },
  {
   "cell_type": "code",
   "execution_count": null,
   "id": "59891fa6",
   "metadata": {},
   "outputs": [],
   "source": []
  }
 ],
 "metadata": {
  "kernelspec": {
   "display_name": "Python 3 (ipykernel)",
   "language": "python",
   "name": "python3"
  },
  "language_info": {
   "codemirror_mode": {
    "name": "ipython",
    "version": 3
   },
   "file_extension": ".py",
   "mimetype": "text/x-python",
   "name": "python",
   "nbconvert_exporter": "python",
   "pygments_lexer": "ipython3",
   "version": "3.11.5"
  }
 },
 "nbformat": 4,
 "nbformat_minor": 5
}
